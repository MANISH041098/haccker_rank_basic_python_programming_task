{
 "cells": [
  {
   "cell_type": "code",
   "execution_count": null,
   "id": "d5584592",
   "metadata": {},
   "outputs": [],
   "source": [
    "# 1 question code\n",
    "print(\"Hello, World!\")"
   ]
  },
  {
   "cell_type": "code",
   "execution_count": null,
   "id": "91c6dfb5",
   "metadata": {},
   "outputs": [],
   "source": [
    "#2 question code\n",
    "if n%2 != 0:\n",
    "    print(\"Weird\")\n",
    "elif 2 <= n and n <= 5:\n",
    "    print(\"Not Weird\")\n",
    "elif  6 <= n and n <= 20:\n",
    "    print(\"Weird\")\n",
    "elif n > 20:\n",
    "    print(\"Not Weird\")"
   ]
  },
  {
   "cell_type": "code",
   "execution_count": null,
   "id": "757d81ac",
   "metadata": {},
   "outputs": [],
   "source": [
    "#3 question code\n",
    "a = int(input())\n",
    "b = int(input())\n",
    "print(a + b)\n",
    "print(a - b)\n",
    "print(a * b)"
   ]
  },
  {
   "cell_type": "code",
   "execution_count": null,
   "id": "81896c1d",
   "metadata": {},
   "outputs": [],
   "source": [
    "#4 question code\n",
    "a = int(input())\n",
    "b = int(input())\n",
    "print(a//b)\n",
    "print(a/b)"
   ]
  },
  {
   "cell_type": "code",
   "execution_count": null,
   "id": "7ace3ca6",
   "metadata": {},
   "outputs": [],
   "source": [
    "#5 question code\n",
    "n = int(input())\n",
    "i = 0\n",
    "while i < n:\n",
    "    print(i**2)\n",
    "    i = i + 1"
   ]
  },
  {
   "cell_type": "code",
   "execution_count": null,
   "id": "a17d2947",
   "metadata": {},
   "outputs": [],
   "source": [
    "#6 question code\n",
    "def is_leap(year):\n",
    "    if year%4 == 0 and year%100 != 0:\n",
    "        return\"True\"\n",
    "    elif year%400 == 0 and year%100 == 0:\n",
    "        return\"True\"\n",
    "    else:\n",
    "        return\"False\"\n",
    "        \n",
    "\n",
    "    \n",
    "\n",
    "year = int(input())\n",
    "print(is_leap(year))\n"
   ]
  },
  {
   "cell_type": "code",
   "execution_count": null,
   "id": "30216158",
   "metadata": {},
   "outputs": [],
   "source": [
    "#7 question code\n",
    "n = int(input())\n",
    "    for i in range(1,n+1):\n",
    "        print(i,end=\"\")"
   ]
  }
 ],
 "metadata": {
  "kernelspec": {
   "display_name": "Python 3 (ipykernel)",
   "language": "python",
   "name": "python3"
  },
  "language_info": {
   "codemirror_mode": {
    "name": "ipython",
    "version": 3
   },
   "file_extension": ".py",
   "mimetype": "text/x-python",
   "name": "python",
   "nbconvert_exporter": "python",
   "pygments_lexer": "ipython3",
   "version": "3.9.7"
  }
 },
 "nbformat": 4,
 "nbformat_minor": 5
}
